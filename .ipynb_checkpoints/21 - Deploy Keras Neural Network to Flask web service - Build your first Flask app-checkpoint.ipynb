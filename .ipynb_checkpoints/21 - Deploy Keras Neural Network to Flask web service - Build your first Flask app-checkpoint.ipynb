{
 "cells": [
  {
   "cell_type": "code",
   "execution_count": null,
   "id": "1b372e83",
   "metadata": {},
   "outputs": [],
   "source": [
    "# Linux: sudo pip install Flask\n",
    "# Windows: pip install Flask\n",
    "# Anaconda: \n"
   ]
  }
 ],
 "metadata": {
  "kernelspec": {
   "display_name": "Python 3",
   "language": "python",
   "name": "python3"
  },
  "language_info": {
   "codemirror_mode": {
    "name": "ipython",
    "version": 3
   },
   "file_extension": ".py",
   "mimetype": "text/x-python",
   "name": "python",
   "nbconvert_exporter": "python",
   "pygments_lexer": "ipython3",
   "version": "3.8.10"
  }
 },
 "nbformat": 4,
 "nbformat_minor": 5
}
